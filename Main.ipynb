{
 "cells": [
  {
   "cell_type": "code",
   "execution_count": 1,
   "metadata": {},
   "outputs": [],
   "source": [
    "from torchvision import datasets, transforms\n",
    "import torch\n",
    "\n",
    "mnist_trainset = datasets.MNIST(root='./data', train=True, download=True, transform=transforms.Compose([transforms.ToTensor()]))\n",
    "mnist_testset = datasets.MNIST(root='./data', train=False, download=True, transform=transforms.Compose([transforms.ToTensor()]))\n",
    "\n",
    "mnist_valset, mnist_testset = torch.utils.data.random_split(mnist_testset, [int(0.9 * len(mnist_testset)), int(0.1 * len(mnist_testset))])\n",
    "\n",
    "train_loader = torch.utils.data.DataLoader(mnist_trainset, batch_size=64, shuffle=True)\n",
    "test_dataloader = torch.utils.data.DataLoader(mnist_testset, batch_size=64, shuffle=False)\n",
    "val_loader = torch.utils.data.DataLoader(mnist_valset, batch_size=64, shuffle=False)"
   ]
  },
  {
   "cell_type": "code",
   "execution_count": 2,
   "metadata": {},
   "outputs": [],
   "source": [
    "from torch import nn\n",
    "from torchvision.models import ResNet50_Weights, resnet50\n",
    "\n",
    "class Model(nn.Module):\n",
    "  def __init__(self):\n",
    "    super(Model, self).__init__()\n",
    "\n",
    "    self.model = resnet50(weights=ResNet50_Weights.DEFAULT)\n",
    "\n",
    "    self.model.conv1 = nn.Conv2d(1, 64, kernel_size=7, stride=2, padding=3, bias=False)\n",
    "    \n",
    "    num_ftrs = self.model.fc.in_features\n",
    "    self.model.fc = nn.Linear(num_ftrs, 10)\n",
    "\n",
    "  def forward(self, x):\n",
    "    return self.model(x)"
   ]
  },
  {
   "cell_type": "code",
   "execution_count": 3,
   "metadata": {},
   "outputs": [
    {
     "name": "stderr",
     "output_type": "stream",
     "text": [
      "Downloading: \"https://download.pytorch.org/models/resnet50-11ad3fa6.pth\" to /Users/jenda/.cache/torch/hub/checkpoints/resnet50-11ad3fa6.pth\n",
      "100%|██████████| 97.8M/97.8M [00:17<00:00, 5.72MB/s]\n"
     ]
    }
   ],
   "source": [
    "model = Model()\n",
    "\n",
    "criterion = nn.CrossEntropyLoss()\n",
    "\n",
    "optimizer = torch.optim.SGD(model.parameters(), lr=0.0005, weight_decay = 0.005, momentum = 0.9)  \n",
    "\n",
    "total_step = len(train_loader)"
   ]
  },
  {
   "cell_type": "code",
   "execution_count": null,
   "metadata": {},
   "outputs": [],
   "source": [
    "#TRAINING\n",
    "import time\n",
    "from tqdm import tqdm\n",
    "\n",
    "epochs = 10\n",
    "\n",
    "start_ts = time.time()\n",
    "\n",
    "losses = []\n",
    "batches = len(train_loader)\n",
    "val_batches = len(val_loader)\n",
    "\n",
    "for epoch in range(epochs):\n",
    "    total_loss = 0\n",
    "\n",
    "    progress = tqdm(enumerate(train_loader), desc=\"Loss: \", total=batches)\n",
    "\n",
    "    model.train()\n",
    "    \n",
    "    for i, data in progress:\n",
    "        X, y = data[0], data[1]\n",
    "        model.zero_grad()\n",
    "        outputs = model(X)\n",
    "        loss = criterion(outputs, y)\n",
    "        loss.backward()\n",
    "        optimizer.step()\n",
    "\n",
    "        current_loss = loss.item()\n",
    "        total_loss += current_loss\n",
    "\n",
    "        progress.set_description(\"Loss: {:.4f}\".format(total_loss/(i+1)))\n",
    "        \n",
    "    if torch.cuda.is_available():\n",
    "        torch.cuda.empty_cache()\n",
    "    \n",
    "    val_losses = 0\n",
    "    precision, recall, f1, accuracy = [], [], [], []\n",
    "    \n",
    "    # set model to evaluating (testing)\n",
    "    model.eval()\n",
    "    with torch.no_grad():\n",
    "        for i, data in enumerate(val_loader):\n",
    "            X, y = data[0], data[1]\n",
    "\n",
    "            outputs = model(X) # this get's the prediction from the network\n",
    "\n",
    "            val_losses += criterion(outputs, y)\n",
    "\n",
    "            predicted_classes = torch.max(outputs, 1)[1] # get class from network's prediction\n",
    "          \n",
    "    print(f\"Epoch {epoch+1}/{epochs}, training loss: {total_loss/batches}, validation loss: {val_losses/val_batches}\")\n",
    "print(f\"Training time: {time.time()-start_ts}s\")"
   ]
  },
  {
   "cell_type": "code",
   "execution_count": 4,
   "metadata": {},
   "outputs": [],
   "source": [
    "#LOADING\n",
    "PATH = \"Model.pth\"\n",
    "save = False\n",
    "load = True\n",
    "\n",
    "if save:\n",
    "    torch.save(model.state_dict(), PATH)\n",
    "\n",
    "if load:\n",
    "    model.load_state_dict(torch.load(PATH))"
   ]
  },
  {
   "cell_type": "code",
   "execution_count": 5,
   "metadata": {},
   "outputs": [
    {
     "name": "stdout",
     "output_type": "stream",
     "text": [
      "Accuracy of the network on the 50000 train images: 98.8 %\n"
     ]
    }
   ],
   "source": [
    "#TESTING\n",
    "model.eval()\n",
    "\n",
    "with torch.no_grad():\n",
    "    correct = 0\n",
    "    total = 0\n",
    "    for images, labels in test_dataloader:\n",
    "        outputs = model(images)\n",
    "        _, predicted = torch.max(outputs.data, 1)\n",
    "        total += labels.size(0)\n",
    "        correct += (predicted == labels).sum().item()\n",
    "    \n",
    "    print('Accuracy of the network on the {} train images: {} %'.format(50000, 100 * correct / total))"
   ]
  },
  {
   "cell_type": "code",
   "execution_count": 1,
   "metadata": {},
   "outputs": [
    {
     "name": "stdout",
     "output_type": "stream",
     "text": [
      "pygame 2.5.2 (SDL 2.28.3, Python 3.10.12)\n",
      "Hello from the pygame community. https://www.pygame.org/contribute.html\n"
     ]
    }
   ],
   "source": [
    "#DRAWING\n",
    "import pygame as pg\n",
    "\n",
    "def init():\n",
    "    global screen\n",
    " \n",
    "    pg.init()\n",
    "    screen = pg.display.set_mode((500, 500))\n",
    "    mainloop()\n",
    " \n",
    " \n",
    "drawing = False\n",
    "last_pos = None\n",
    "w = 20\n",
    "color = (255, 255, 255)\n",
    " \n",
    " \n",
    "def draw(event):\n",
    "    global drawing, last_pos, w\n",
    " \n",
    "    if event.type == pg.MOUSEMOTION:\n",
    "        if (drawing):\n",
    "            mouse_position = pg.mouse.get_pos()\n",
    "            pg.draw.circle(screen, color, mouse_position, w)\n",
    "    elif event.type == pg.MOUSEBUTTONUP:\n",
    "        mouse_position = (0, 0)\n",
    "        drawing = False\n",
    "        last_pos = None\n",
    "    elif event.type == pg.MOUSEBUTTONDOWN:\n",
    "        drawing = True\n",
    "    elif event.type == pg.KEYDOWN:\n",
    "        drawing = True\n",
    "    elif event.type == pg.KEYUP:\n",
    "        drawing = False\n",
    " \n",
    " \n",
    "def mainloop():\n",
    "    global screen\n",
    " \n",
    "    run = True\n",
    "    while run:\n",
    "        for event in pg.event.get():\n",
    "            if event.type == pg.QUIT:\n",
    "                run = False\n",
    "            if event.type == pg.KEYDOWN:\n",
    "                if event.key == pg.K_SPACE:\n",
    "                    pg.image.save(screen, \"image.png\")\n",
    "                    run = False\n",
    "            draw(event)\n",
    "        pg.display.flip()\n",
    "    pg.quit()\n",
    "\n",
    " \n",
    "init()"
   ]
  },
  {
   "cell_type": "code",
   "execution_count": 2,
   "metadata": {},
   "outputs": [
    {
     "data": {
      "image/png": "[encoded data removed]",
      "text/plain": [
       "<Figure size 640x480 with 1 Axes>"
      ]
     },
     "metadata": {},
     "output_type": "display_data"
    }
   ],
   "source": [
    "#CONVERTING\n",
    "import torch\n",
    "from PIL import Image\n",
    "from torchvision.transforms import Compose, PILToTensor, Lambda\n",
    "import matplotlib.pyplot as plt\n",
    "\n",
    "image = Image.open(\"image.png\").convert(\"L\").resize((28,28),Image.Resampling.LANCZOS)\n",
    "\n",
    "transform = Compose([\n",
    "    PILToTensor(),\n",
    "    Lambda(lambda image: image.view(-1, 1, 28, 28))\n",
    "])\n",
    "\n",
    "# Y = (X-A)/(B-A) * (D-C) + C where x=input, ab=range in which is x, cd=range we want x to be\n",
    "func = lambda x: (x-0)/(255-0) * (1-0) + 0\n",
    "\n",
    "img_tensor = func(transform(image).to(torch.float))\n",
    "\n",
    "plt.imshow(img_tensor.view(28, 28).tolist(), cmap='gray')\n",
    "plt.show()"
   ]
  },
  {
   "cell_type": "code",
   "execution_count": 5,
   "metadata": {},
   "outputs": [
    {
     "ename": "NameError",
     "evalue": "name 'model' is not defined",
     "output_type": "error",
     "traceback": [
      "\u001b[0;31m---------------------------------------------------------------------------\u001b[0m",
      "\u001b[0;31mNameError\u001b[0m                                 Traceback (most recent call last)",
      "\u001b[1;32m/Users/jenda/Desktop/Coding/Python/MNIST/Main.ipynb Cell 9\u001b[0m line \u001b[0;36m4\n\u001b[1;32m      <a href='vscode-notebook-cell:/Users/jenda/Desktop/Coding/Python/MNIST/Main.ipynb#X11sZmlsZQ%3D%3D?line=0'>1</a>\u001b[0m \u001b[39m#PREDICTING\u001b[39;00m\n\u001b[1;32m      <a href='vscode-notebook-cell:/Users/jenda/Desktop/Coding/Python/MNIST/Main.ipynb#X11sZmlsZQ%3D%3D?line=1'>2</a>\u001b[0m \u001b[39mimport\u001b[39;00m \u001b[39mmatplotlib\u001b[39;00m\u001b[39m.\u001b[39;00m\u001b[39mpyplot\u001b[39;00m \u001b[39mas\u001b[39;00m \u001b[39mplt\u001b[39;00m\n\u001b[0;32m----> <a href='vscode-notebook-cell:/Users/jenda/Desktop/Coding/Python/MNIST/Main.ipynb#X11sZmlsZQ%3D%3D?line=3'>4</a>\u001b[0m model\u001b[39m.\u001b[39meval()\n\u001b[1;32m      <a href='vscode-notebook-cell:/Users/jenda/Desktop/Coding/Python/MNIST/Main.ipynb#X11sZmlsZQ%3D%3D?line=4'>5</a>\u001b[0m \u001b[39mwith\u001b[39;00m torch\u001b[39m.\u001b[39mno_grad():\n\u001b[1;32m      <a href='vscode-notebook-cell:/Users/jenda/Desktop/Coding/Python/MNIST/Main.ipynb#X11sZmlsZQ%3D%3D?line=5'>6</a>\u001b[0m     outputs \u001b[39m=\u001b[39m model(img_tensor)\n",
      "\u001b[0;31mNameError\u001b[0m: name 'model' is not defined"
     ]
    }
   ],
   "source": [
    "#PREDICTING\n",
    "import matplotlib.pyplot as plt\n",
    "\n",
    "model.eval()\n",
    "with torch.no_grad():\n",
    "    outputs = model(img_tensor)\n",
    "    _, predicted = torch.max(outputs.data, 1)\n",
    "    print(predicted.tolist()[0])\n",
    "\n",
    "fig = plt.figure()\n",
    "ax = fig.add_axes([0,0,1,1])\n",
    "categories = [\"0\", \"1\", \"2\", \"3\", \"4\", \"5\", \"6\", \"7\", \"8\", \"9\"]\n",
    "accuracy = outputs.tolist()[0]\n",
    "ax.bar(categories,accuracy)\n",
    "plt.show()"
   ]
  }
 ],
 "metadata": {
  "kernelspec": {
   "display_name": "Python 3.9.12 ('pytorch')",
   "language": "python",
   "name": "python3"
  },
  "language_info": {
   "codemirror_mode": {
    "name": "ipython",
    "version": 3
   },
   "file_extension": ".py",
   "mimetype": "text/x-python",
   "name": "python",
   "nbconvert_exporter": "python",
   "pygments_lexer": "ipython3",
   "version": "3.10.12"
  },
  "orig_nbformat": 4,
  "vscode": {
   "interpreter": {
    "hash": "c6d162b82f613d3628d1d1cae2a2921bdfc6fa4d7706309bf7cd6f0b0bdefa56"
   }
  }
 },
 "nbformat": 4,
 "nbformat_minor": 2
}
